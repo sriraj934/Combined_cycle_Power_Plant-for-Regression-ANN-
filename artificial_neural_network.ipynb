{
  "nbformat": 4,
  "nbformat_minor": 0,
  "metadata": {
    "colab": {
      "name": " artificial_neural_network.ipynb",
      "provenance": [],
      "collapsed_sections": [],
      "toc_visible": true,
      "include_colab_link": true
    },
    "kernelspec": {
      "name": "python3",
      "display_name": "Python 3"
    }
  },
  "cells": [
    {
      "cell_type": "markdown",
      "metadata": {
        "id": "view-in-github",
        "colab_type": "text"
      },
      "source": [
        "<a href=\"https://colab.research.google.com/github/sriraj934/Combined_cycle_Power_Plant-for-Regression-ANN-/blob/main/artificial_neural_network.ipynb\" target=\"_parent\"><img src=\"https://colab.research.google.com/assets/colab-badge.svg\" alt=\"Open In Colab\"/></a>"
      ]
    },
    {
      "cell_type": "markdown",
      "metadata": {
        "id": "lP6JLo1tGNBg"
      },
      "source": [
        "# Artificial Neural Network"
      ]
    },
    {
      "cell_type": "markdown",
      "metadata": {
        "id": "gWZyYmS_UE_L"
      },
      "source": [
        "### Importing the libraries"
      ]
    },
    {
      "cell_type": "code",
      "metadata": {
        "id": "F6htRqkmeF-e"
      },
      "source": [
        "import numpy as np\r\n",
        "import pandas as pd\r\n",
        "import tensorflow as tf"
      ],
      "execution_count": 1,
      "outputs": []
    },
    {
      "cell_type": "code",
      "metadata": {
        "colab": {
          "base_uri": "https://localhost:8080/",
          "height": 35
        },
        "id": "WFHtn8FHeQv8",
        "outputId": "35ae6d61-3d35-4f99-f52d-41282c816654"
      },
      "source": [
        "tf.__version__"
      ],
      "execution_count": 2,
      "outputs": [
        {
          "output_type": "execute_result",
          "data": {
            "application/vnd.google.colaboratory.intrinsic+json": {
              "type": "string"
            },
            "text/plain": [
              "'2.4.0'"
            ]
          },
          "metadata": {
            "tags": []
          },
          "execution_count": 2
        }
      ]
    },
    {
      "cell_type": "markdown",
      "metadata": {
        "id": "1E0Q3aoKUCRX"
      },
      "source": [
        "## Part 1 - Data Preprocessing"
      ]
    },
    {
      "cell_type": "markdown",
      "metadata": {
        "id": "cKWAkFVGUU0Z"
      },
      "source": [
        "### Importing the dataset"
      ]
    },
    {
      "cell_type": "code",
      "metadata": {
        "id": "moErBe85eXYP"
      },
      "source": [
        "dataset = pd.read_excel('Folds5x2_pp.xlsx')\r\n",
        "X = dataset.iloc[:,:-1].values\r\n",
        "y = dataset.iloc[:,-1].values"
      ],
      "execution_count": 3,
      "outputs": []
    },
    {
      "cell_type": "code",
      "metadata": {
        "colab": {
          "base_uri": "https://localhost:8080/"
        },
        "id": "_PzA6onzesGo",
        "outputId": "eebda25c-0c96-4b7f-de3e-d6d56ba983f8"
      },
      "source": [
        "print(X)"
      ],
      "execution_count": 4,
      "outputs": [
        {
          "output_type": "stream",
          "text": [
            "[[  14.96   41.76 1024.07   73.17]\n",
            " [  25.18   62.96 1020.04   59.08]\n",
            " [   5.11   39.4  1012.16   92.14]\n",
            " ...\n",
            " [  31.32   74.33 1012.92   36.48]\n",
            " [  24.48   69.45 1013.86   62.39]\n",
            " [  21.6    62.52 1017.23   67.87]]\n"
          ],
          "name": "stdout"
        }
      ]
    },
    {
      "cell_type": "code",
      "metadata": {
        "colab": {
          "base_uri": "https://localhost:8080/"
        },
        "id": "kebcn0z2etwC",
        "outputId": "e63e5a98-e326-43c7-ee1d-2519a49e0373"
      },
      "source": [
        "print(y)"
      ],
      "execution_count": 5,
      "outputs": [
        {
          "output_type": "stream",
          "text": [
            "[463.26 444.37 488.56 ... 429.57 435.74 453.28]\n"
          ],
          "name": "stdout"
        }
      ]
    },
    {
      "cell_type": "markdown",
      "metadata": {
        "id": "vHol938cW8zd"
      },
      "source": [
        "### Splitting the dataset into the Training set and Test set"
      ]
    },
    {
      "cell_type": "code",
      "metadata": {
        "id": "5kiGbHJrjKFj"
      },
      "source": [
        "from sklearn.model_selection import train_test_split\r\n",
        "X_train,X_test,y_train,y_test = train_test_split(X,y,test_size = 0.2 , random_state = 0)"
      ],
      "execution_count": 6,
      "outputs": []
    },
    {
      "cell_type": "code",
      "metadata": {
        "colab": {
          "base_uri": "https://localhost:8080/"
        },
        "id": "HIvE0WJ9jZrT",
        "outputId": "915933a5-beca-406b-d329-44d37486b992"
      },
      "source": [
        "print(X_train)"
      ],
      "execution_count": 7,
      "outputs": [
        {
          "output_type": "stream",
          "text": [
            "[[  11.22   43.13 1017.24   80.9 ]\n",
            " [  13.67   54.3  1015.92   75.42]\n",
            " [  32.84   77.95 1014.68   45.8 ]\n",
            " ...\n",
            " [  16.81   38.52 1018.26   75.21]\n",
            " [  12.8    41.16 1022.43   86.19]\n",
            " [  32.32   67.9  1006.08   37.93]]\n"
          ],
          "name": "stdout"
        }
      ]
    },
    {
      "cell_type": "code",
      "metadata": {
        "colab": {
          "base_uri": "https://localhost:8080/"
        },
        "id": "RPsVReLKjbRV",
        "outputId": "8a4c79ce-0ebf-420f-c96c-beae01990ead"
      },
      "source": [
        "print(X_test)"
      ],
      "execution_count": 8,
      "outputs": [
        {
          "output_type": "stream",
          "text": [
            "[[  28.66   77.95 1009.56   69.07]\n",
            " [  17.48   49.39 1021.51   84.53]\n",
            " [  14.86   43.14 1019.21   99.14]\n",
            " ...\n",
            " [  12.24   44.92 1023.74   88.21]\n",
            " [  27.28   47.93 1003.46   59.22]\n",
            " [  17.28   39.99 1007.09   74.25]]\n"
          ],
          "name": "stdout"
        }
      ]
    },
    {
      "cell_type": "code",
      "metadata": {
        "colab": {
          "base_uri": "https://localhost:8080/"
        },
        "id": "NzdzHOkcjcfF",
        "outputId": "cfda0f85-c67a-44ac-969b-4e7bf8921e4a"
      },
      "source": [
        "print(y_train)"
      ],
      "execution_count": 9,
      "outputs": [
        {
          "output_type": "stream",
          "text": [
            "[473.93 467.87 431.97 ... 459.01 462.72 428.12]\n"
          ],
          "name": "stdout"
        }
      ]
    },
    {
      "cell_type": "code",
      "metadata": {
        "colab": {
          "base_uri": "https://localhost:8080/"
        },
        "id": "e4vF_KYhjdxu",
        "outputId": "b933d535-51a2-4a7b-ad48-f1399237a498"
      },
      "source": [
        "print(y_test)"
      ],
      "execution_count": 10,
      "outputs": [
        {
          "output_type": "stream",
          "text": [
            "[431.23 460.01 461.14 ... 473.26 438.   463.28]\n"
          ],
          "name": "stdout"
        }
      ]
    },
    {
      "cell_type": "markdown",
      "metadata": {
        "id": "RE_FcHyfV3TQ"
      },
      "source": [
        "### Feature Scaling"
      ]
    },
    {
      "cell_type": "code",
      "metadata": {
        "id": "FEI2NRoSjocF"
      },
      "source": [
        "from sklearn.preprocessing import StandardScaler\r\n",
        "sc = StandardScaler()\r\n",
        "X_train = sc.fit_transform(X_train)\r\n",
        "X_test = sc.transform(X_test)"
      ],
      "execution_count": 11,
      "outputs": []
    },
    {
      "cell_type": "code",
      "metadata": {
        "colab": {
          "base_uri": "https://localhost:8080/"
        },
        "id": "c-_kQ06Hj38o",
        "outputId": "c7991730-160a-4981-a538-debbefb8fd67"
      },
      "source": [
        "print(X_train)"
      ],
      "execution_count": 12,
      "outputs": [
        {
          "output_type": "stream",
          "text": [
            "[[-1.13572795 -0.88685592  0.67357894  0.52070558]\n",
            " [-0.80630243 -0.00971567  0.45145467  0.14531044]\n",
            " [ 1.77128416  1.84743445  0.24279248 -1.88374143]\n",
            " ...\n",
            " [-0.38409993 -1.24886277  0.84522042  0.13092486]\n",
            " [-0.9232821  -1.04155299  1.54693117  0.8830852 ]\n",
            " [ 1.70136528  1.05824381 -1.20438076 -2.42285818]]\n"
          ],
          "name": "stdout"
        }
      ]
    },
    {
      "cell_type": "code",
      "metadata": {
        "colab": {
          "base_uri": "https://localhost:8080/"
        },
        "id": "vdZ0CIk0j6r4",
        "outputId": "b060aafc-4796-4fb3-dc39-a566b0e64518"
      },
      "source": [
        "print(X_test)"
      ],
      "execution_count": 13,
      "outputs": [
        {
          "output_type": "stream",
          "text": [
            "[[ 1.20924389  1.84743445 -0.61878043 -0.28968211]\n",
            " [-0.29401214 -0.39528045  1.39211729  0.76937061]\n",
            " [-0.64629575 -0.88607065  1.00508258  1.77019599]\n",
            " ...\n",
            " [-0.99857936 -0.74629361  1.76737267  1.02146078]\n",
            " [ 1.02368993 -0.50992904 -1.64526378 -0.96443434]\n",
            " [-0.32090402 -1.13342892 -1.03442205  0.0651622 ]]\n"
          ],
          "name": "stdout"
        }
      ]
    },
    {
      "cell_type": "markdown",
      "metadata": {
        "id": "-zfEzkRVXIwF"
      },
      "source": [
        "## Part 2 - Building the ANN"
      ]
    },
    {
      "cell_type": "markdown",
      "metadata": {
        "id": "KvdeScabXtlB"
      },
      "source": [
        "### Initializing the ANN"
      ]
    },
    {
      "cell_type": "code",
      "metadata": {
        "id": "TrI-JtUYkUQg"
      },
      "source": [
        "ann =tf.keras.models.Sequential()"
      ],
      "execution_count": 14,
      "outputs": []
    },
    {
      "cell_type": "markdown",
      "metadata": {
        "id": "rP6urV6SX7kS"
      },
      "source": [
        "### Adding the input layer and the first hidden layer"
      ]
    },
    {
      "cell_type": "code",
      "metadata": {
        "id": "vf_juf86ke-L"
      },
      "source": [
        "ann.add(tf.keras.layers.Dense(units = 6,activation='relu'))"
      ],
      "execution_count": 15,
      "outputs": []
    },
    {
      "cell_type": "markdown",
      "metadata": {
        "id": "BELWAc_8YJze"
      },
      "source": [
        "### Adding the second hidden layer"
      ]
    },
    {
      "cell_type": "code",
      "metadata": {
        "id": "Vc4evyq1lvZK"
      },
      "source": [
        "ann.add(tf.keras.layers.Dense(units = 6,activation='relu'))"
      ],
      "execution_count": 16,
      "outputs": []
    },
    {
      "cell_type": "markdown",
      "metadata": {
        "id": "OyNEe6RXYcU4"
      },
      "source": [
        "### Adding the output layer"
      ]
    },
    {
      "cell_type": "code",
      "metadata": {
        "id": "26mqgbXhly57"
      },
      "source": [
        "ann.add(tf.keras.layers.Dense(units = 1))"
      ],
      "execution_count": 17,
      "outputs": []
    },
    {
      "cell_type": "markdown",
      "metadata": {
        "id": "JT4u2S1_Y4WG"
      },
      "source": [
        "## Part 3 - Training the ANN"
      ]
    },
    {
      "cell_type": "markdown",
      "metadata": {
        "id": "8GWlJChhY_ZI"
      },
      "source": [
        "### Compiling the ANN"
      ]
    },
    {
      "cell_type": "code",
      "metadata": {
        "id": "0e9f4cfqmaR6"
      },
      "source": [
        "ann.compile(optimizer='adam',loss='mean_squared_error')"
      ],
      "execution_count": 18,
      "outputs": []
    },
    {
      "cell_type": "markdown",
      "metadata": {
        "id": "0QR_G5u7ZLSM"
      },
      "source": [
        "### Training the ANN on the Training set"
      ]
    },
    {
      "cell_type": "code",
      "metadata": {
        "colab": {
          "base_uri": "https://localhost:8080/"
        },
        "id": "75TP83Tlm2Nt",
        "outputId": "1f7a1ee9-58cf-4425-db05-146194b5a44f"
      },
      "source": [
        "classifier = ann.fit(X_train , y_train , batch_size=32,epochs=100)"
      ],
      "execution_count": 19,
      "outputs": [
        {
          "output_type": "stream",
          "text": [
            "Epoch 1/100\n",
            "240/240 [==============================] - 1s 955us/step - loss: 207142.7623\n",
            "Epoch 2/100\n",
            "240/240 [==============================] - 0s 987us/step - loss: 205590.9486\n",
            "Epoch 3/100\n",
            "240/240 [==============================] - 0s 995us/step - loss: 198645.9122\n",
            "Epoch 4/100\n",
            "240/240 [==============================] - 0s 1ms/step - loss: 177033.4466\n",
            "Epoch 5/100\n",
            "240/240 [==============================] - 0s 1ms/step - loss: 142270.5942\n",
            "Epoch 6/100\n",
            "240/240 [==============================] - 0s 1ms/step - loss: 102874.9403\n",
            "Epoch 7/100\n",
            "240/240 [==============================] - 0s 1ms/step - loss: 66137.1342\n",
            "Epoch 8/100\n",
            "240/240 [==============================] - 0s 963us/step - loss: 41750.6296\n",
            "Epoch 9/100\n",
            "240/240 [==============================] - 0s 1ms/step - loss: 28890.6639\n",
            "Epoch 10/100\n",
            "240/240 [==============================] - 0s 1ms/step - loss: 23302.1300\n",
            "Epoch 11/100\n",
            "240/240 [==============================] - 0s 988us/step - loss: 20005.2404\n",
            "Epoch 12/100\n",
            "240/240 [==============================] - 0s 1ms/step - loss: 18148.4802\n",
            "Epoch 13/100\n",
            "240/240 [==============================] - 0s 1ms/step - loss: 15536.3741\n",
            "Epoch 14/100\n",
            "240/240 [==============================] - 0s 1ms/step - loss: 13132.5581\n",
            "Epoch 15/100\n",
            "240/240 [==============================] - 0s 1ms/step - loss: 10627.3731\n",
            "Epoch 16/100\n",
            "240/240 [==============================] - 0s 944us/step - loss: 8397.9774\n",
            "Epoch 17/100\n",
            "240/240 [==============================] - 0s 967us/step - loss: 6353.3206\n",
            "Epoch 18/100\n",
            "240/240 [==============================] - 0s 1ms/step - loss: 4573.7042\n",
            "Epoch 19/100\n",
            "240/240 [==============================] - 0s 973us/step - loss: 3160.4644\n",
            "Epoch 20/100\n",
            "240/240 [==============================] - 0s 1ms/step - loss: 1987.5493\n",
            "Epoch 21/100\n",
            "240/240 [==============================] - 0s 1ms/step - loss: 1288.1487\n",
            "Epoch 22/100\n",
            "240/240 [==============================] - 0s 1ms/step - loss: 841.0464\n",
            "Epoch 23/100\n",
            "240/240 [==============================] - 0s 1ms/step - loss: 560.1771\n",
            "Epoch 24/100\n",
            "240/240 [==============================] - 0s 993us/step - loss: 378.9263\n",
            "Epoch 25/100\n",
            "240/240 [==============================] - 0s 1ms/step - loss: 268.8702\n",
            "Epoch 26/100\n",
            "240/240 [==============================] - 0s 976us/step - loss: 188.8799\n",
            "Epoch 27/100\n",
            "240/240 [==============================] - 0s 1ms/step - loss: 132.0609\n",
            "Epoch 28/100\n",
            "240/240 [==============================] - 0s 941us/step - loss: 98.4723\n",
            "Epoch 29/100\n",
            "240/240 [==============================] - 0s 987us/step - loss: 74.7988\n",
            "Epoch 30/100\n",
            "240/240 [==============================] - 0s 981us/step - loss: 55.8483\n",
            "Epoch 31/100\n",
            "240/240 [==============================] - 0s 1ms/step - loss: 41.6444\n",
            "Epoch 32/100\n",
            "240/240 [==============================] - 0s 958us/step - loss: 34.0559\n",
            "Epoch 33/100\n",
            "240/240 [==============================] - 0s 1ms/step - loss: 28.6443\n",
            "Epoch 34/100\n",
            "240/240 [==============================] - 0s 989us/step - loss: 28.6442\n",
            "Epoch 35/100\n",
            "240/240 [==============================] - 0s 1ms/step - loss: 25.7338\n",
            "Epoch 36/100\n",
            "240/240 [==============================] - 0s 1ms/step - loss: 23.8635\n",
            "Epoch 37/100\n",
            "240/240 [==============================] - 0s 983us/step - loss: 23.2590\n",
            "Epoch 38/100\n",
            "240/240 [==============================] - 0s 959us/step - loss: 21.7160\n",
            "Epoch 39/100\n",
            "240/240 [==============================] - 0s 1ms/step - loss: 21.8981\n",
            "Epoch 40/100\n",
            "240/240 [==============================] - 0s 955us/step - loss: 23.1634\n",
            "Epoch 41/100\n",
            "240/240 [==============================] - 0s 952us/step - loss: 21.5911\n",
            "Epoch 42/100\n",
            "240/240 [==============================] - 0s 1ms/step - loss: 22.1317\n",
            "Epoch 43/100\n",
            "240/240 [==============================] - 0s 963us/step - loss: 21.3804\n",
            "Epoch 44/100\n",
            "240/240 [==============================] - 0s 984us/step - loss: 22.3434\n",
            "Epoch 45/100\n",
            "240/240 [==============================] - 0s 999us/step - loss: 19.9935\n",
            "Epoch 46/100\n",
            "240/240 [==============================] - 0s 1ms/step - loss: 21.7879\n",
            "Epoch 47/100\n",
            "240/240 [==============================] - 0s 1ms/step - loss: 21.1559\n",
            "Epoch 48/100\n",
            "240/240 [==============================] - 0s 946us/step - loss: 21.2825\n",
            "Epoch 49/100\n",
            "240/240 [==============================] - 0s 966us/step - loss: 21.4841\n",
            "Epoch 50/100\n",
            "240/240 [==============================] - 0s 1ms/step - loss: 20.9000\n",
            "Epoch 51/100\n",
            "240/240 [==============================] - 0s 935us/step - loss: 21.4418\n",
            "Epoch 52/100\n",
            "240/240 [==============================] - 0s 990us/step - loss: 20.6903\n",
            "Epoch 53/100\n",
            "240/240 [==============================] - 0s 998us/step - loss: 20.7449\n",
            "Epoch 54/100\n",
            "240/240 [==============================] - 0s 940us/step - loss: 21.2728\n",
            "Epoch 55/100\n",
            "240/240 [==============================] - 0s 959us/step - loss: 20.8165\n",
            "Epoch 56/100\n",
            "240/240 [==============================] - 0s 1ms/step - loss: 21.0204\n",
            "Epoch 57/100\n",
            "240/240 [==============================] - 0s 969us/step - loss: 20.1980\n",
            "Epoch 58/100\n",
            "240/240 [==============================] - 0s 975us/step - loss: 20.8837\n",
            "Epoch 59/100\n",
            "240/240 [==============================] - 0s 972us/step - loss: 22.1386\n",
            "Epoch 60/100\n",
            "240/240 [==============================] - 0s 1ms/step - loss: 21.2688\n",
            "Epoch 61/100\n",
            "240/240 [==============================] - 0s 954us/step - loss: 21.1086\n",
            "Epoch 62/100\n",
            "240/240 [==============================] - 0s 966us/step - loss: 21.0118\n",
            "Epoch 63/100\n",
            "240/240 [==============================] - 0s 1ms/step - loss: 20.7367\n",
            "Epoch 64/100\n",
            "240/240 [==============================] - 0s 999us/step - loss: 19.3071\n",
            "Epoch 65/100\n",
            "240/240 [==============================] - 0s 1ms/step - loss: 20.9429\n",
            "Epoch 66/100\n",
            "240/240 [==============================] - 0s 1ms/step - loss: 20.8349\n",
            "Epoch 67/100\n",
            "240/240 [==============================] - 0s 962us/step - loss: 21.0561\n",
            "Epoch 68/100\n",
            "240/240 [==============================] - 0s 1ms/step - loss: 19.8937\n",
            "Epoch 69/100\n",
            "240/240 [==============================] - 0s 981us/step - loss: 21.3598\n",
            "Epoch 70/100\n",
            "240/240 [==============================] - 0s 988us/step - loss: 20.4251\n",
            "Epoch 71/100\n",
            "240/240 [==============================] - 0s 954us/step - loss: 20.1407\n",
            "Epoch 72/100\n",
            "240/240 [==============================] - 0s 1ms/step - loss: 20.8174\n",
            "Epoch 73/100\n",
            "240/240 [==============================] - 0s 1ms/step - loss: 21.5144\n",
            "Epoch 74/100\n",
            "240/240 [==============================] - 0s 1ms/step - loss: 20.6089\n",
            "Epoch 75/100\n",
            "240/240 [==============================] - 0s 927us/step - loss: 21.1195\n",
            "Epoch 76/100\n",
            "240/240 [==============================] - 0s 966us/step - loss: 20.6798\n",
            "Epoch 77/100\n",
            "240/240 [==============================] - 0s 967us/step - loss: 20.8369\n",
            "Epoch 78/100\n",
            "240/240 [==============================] - 0s 1ms/step - loss: 21.4255\n",
            "Epoch 79/100\n",
            "240/240 [==============================] - 0s 1ms/step - loss: 20.2339\n",
            "Epoch 80/100\n",
            "240/240 [==============================] - 0s 993us/step - loss: 20.5404\n",
            "Epoch 81/100\n",
            "240/240 [==============================] - 0s 974us/step - loss: 20.3595\n",
            "Epoch 82/100\n",
            "240/240 [==============================] - 0s 1ms/step - loss: 20.2925\n",
            "Epoch 83/100\n",
            "240/240 [==============================] - 0s 994us/step - loss: 21.7387\n",
            "Epoch 84/100\n",
            "240/240 [==============================] - 0s 1ms/step - loss: 20.3843\n",
            "Epoch 85/100\n",
            "240/240 [==============================] - 0s 1ms/step - loss: 21.3540\n",
            "Epoch 86/100\n",
            "240/240 [==============================] - 0s 1ms/step - loss: 19.5411\n",
            "Epoch 87/100\n",
            "240/240 [==============================] - 0s 986us/step - loss: 21.2056\n",
            "Epoch 88/100\n",
            "240/240 [==============================] - 0s 954us/step - loss: 20.3976\n",
            "Epoch 89/100\n",
            "240/240 [==============================] - 0s 1ms/step - loss: 20.8080\n",
            "Epoch 90/100\n",
            "240/240 [==============================] - 0s 1ms/step - loss: 20.8254\n",
            "Epoch 91/100\n",
            "240/240 [==============================] - 0s 1ms/step - loss: 20.5449\n",
            "Epoch 92/100\n",
            "240/240 [==============================] - 0s 1ms/step - loss: 20.0954\n",
            "Epoch 93/100\n",
            "240/240 [==============================] - 0s 1ms/step - loss: 19.7732\n",
            "Epoch 94/100\n",
            "240/240 [==============================] - 0s 986us/step - loss: 20.1547\n",
            "Epoch 95/100\n",
            "240/240 [==============================] - 0s 979us/step - loss: 21.4019\n",
            "Epoch 96/100\n",
            "240/240 [==============================] - 0s 990us/step - loss: 20.2786\n",
            "Epoch 97/100\n",
            "240/240 [==============================] - 0s 1ms/step - loss: 20.8236\n",
            "Epoch 98/100\n",
            "240/240 [==============================] - 0s 973us/step - loss: 21.3102\n",
            "Epoch 99/100\n",
            "240/240 [==============================] - 0s 1ms/step - loss: 21.1426\n",
            "Epoch 100/100\n",
            "240/240 [==============================] - 0s 989us/step - loss: 21.0168\n"
          ],
          "name": "stdout"
        }
      ]
    },
    {
      "cell_type": "markdown",
      "metadata": {
        "id": "tJj5k2MxZga3"
      },
      "source": [
        "## Part 4 - Making the predictions and evaluating the model"
      ]
    },
    {
      "cell_type": "markdown",
      "metadata": {
        "id": "u7yx47jPZt11"
      },
      "source": [
        "### Predicting the Test set results"
      ]
    },
    {
      "cell_type": "code",
      "metadata": {
        "colab": {
          "base_uri": "https://localhost:8080/"
        },
        "id": "Nc9dPhDFocaH",
        "outputId": "27e6a287-3314-4bdd-8b4f-7fbb121b81d5"
      },
      "source": [
        "y_pred = ann.predict(X_test)\r\n",
        "np.set_printoptions(precision=2)\r\n",
        "print(np.concatenate((y_pred.reshape(len(y_pred),1),y_test.reshape(len(y_test),1)),1))"
      ],
      "execution_count": 20,
      "outputs": [
        {
          "output_type": "stream",
          "text": [
            "[[431.09 431.23]\n",
            " [458.84 460.01]\n",
            " [463.33 461.14]\n",
            " ...\n",
            " [469.89 473.26]\n",
            " [442.06 438.  ]\n",
            " [461.86 463.28]]\n"
          ],
          "name": "stdout"
        }
      ]
    },
    {
      "cell_type": "code",
      "metadata": {
        "colab": {
          "base_uri": "https://localhost:8080/"
        },
        "id": "Tyht6xNezi4j",
        "outputId": "35ae6505-702a-40d9-ab39-acb165c5d4c8"
      },
      "source": [
        "from sklearn.metrics import r2_score\r\n",
        "r2_score(y_test,y_pred)"
      ],
      "execution_count": 21,
      "outputs": [
        {
          "output_type": "execute_result",
          "data": {
            "text/plain": [
              "0.9354984333874737"
            ]
          },
          "metadata": {
            "tags": []
          },
          "execution_count": 21
        }
      ]
    }
  ]
}